{
 "cells": [
  {
   "cell_type": "code",
   "execution_count": 26,
   "id": "403834bf",
   "metadata": {},
   "outputs": [],
   "source": [
    "import pandas as pd\n",
    "import numpy as np\n",
    "import matplotlib.pyplot as plt\n",
    "import seaborn as sns"
   ]
  },
  {
   "cell_type": "code",
   "execution_count": 2,
   "id": "746e1c00",
   "metadata": {},
   "outputs": [
    {
     "name": "stdout",
     "output_type": "stream",
     "text": [
      "0.9.1\n"
     ]
    }
   ],
   "source": [
    "import imblearn\n",
    "print(imblearn.__version__)"
   ]
  },
  {
   "cell_type": "code",
   "execution_count": 3,
   "id": "d0329611",
   "metadata": {},
   "outputs": [],
   "source": [
    "import pickle\n",
    "\n",
    "X_test = pd.read_csv(\"poker-hand-testing.data\")\n",
    "X_train = pd.read_csv(\"poker-hand-training-true.data\")\n",
    "\n",
    "X_test.columns = ['S1', 'C1','S2', 'C2','S3', 'C3','S4', 'C4','S5', 'C5', 'Hand Rank']\n",
    "X_train.columns = ['S1', 'C1','S2', 'C2','S3', 'C3','S4', 'C4','S5', 'C5', 'Hand Rank']\n",
    "\n",
    "y_train = X_train[\"Hand Rank\"]\n",
    "y_test = X_test[\"Hand Rank\"]"
   ]
  },
  {
   "cell_type": "code",
   "execution_count": 4,
   "id": "4231a621",
   "metadata": {},
   "outputs": [
    {
     "data": {
      "text/html": [
       "<div>\n",
       "<style scoped>\n",
       "    .dataframe tbody tr th:only-of-type {\n",
       "        vertical-align: middle;\n",
       "    }\n",
       "\n",
       "    .dataframe tbody tr th {\n",
       "        vertical-align: top;\n",
       "    }\n",
       "\n",
       "    .dataframe thead th {\n",
       "        text-align: right;\n",
       "    }\n",
       "</style>\n",
       "<table border=\"1\" class=\"dataframe\">\n",
       "  <thead>\n",
       "    <tr style=\"text-align: right;\">\n",
       "      <th></th>\n",
       "      <th>S1</th>\n",
       "      <th>C1</th>\n",
       "      <th>S2</th>\n",
       "      <th>C2</th>\n",
       "      <th>S3</th>\n",
       "      <th>C3</th>\n",
       "      <th>S4</th>\n",
       "      <th>C4</th>\n",
       "      <th>S5</th>\n",
       "      <th>C5</th>\n",
       "      <th>Hand Rank</th>\n",
       "    </tr>\n",
       "  </thead>\n",
       "  <tbody>\n",
       "    <tr>\n",
       "      <th>0</th>\n",
       "      <td>2</td>\n",
       "      <td>11</td>\n",
       "      <td>2</td>\n",
       "      <td>13</td>\n",
       "      <td>2</td>\n",
       "      <td>10</td>\n",
       "      <td>2</td>\n",
       "      <td>12</td>\n",
       "      <td>2</td>\n",
       "      <td>1</td>\n",
       "      <td>9</td>\n",
       "    </tr>\n",
       "    <tr>\n",
       "      <th>1</th>\n",
       "      <td>3</td>\n",
       "      <td>12</td>\n",
       "      <td>3</td>\n",
       "      <td>11</td>\n",
       "      <td>3</td>\n",
       "      <td>13</td>\n",
       "      <td>3</td>\n",
       "      <td>10</td>\n",
       "      <td>3</td>\n",
       "      <td>1</td>\n",
       "      <td>9</td>\n",
       "    </tr>\n",
       "    <tr>\n",
       "      <th>2</th>\n",
       "      <td>4</td>\n",
       "      <td>10</td>\n",
       "      <td>4</td>\n",
       "      <td>11</td>\n",
       "      <td>4</td>\n",
       "      <td>1</td>\n",
       "      <td>4</td>\n",
       "      <td>13</td>\n",
       "      <td>4</td>\n",
       "      <td>12</td>\n",
       "      <td>9</td>\n",
       "    </tr>\n",
       "    <tr>\n",
       "      <th>3</th>\n",
       "      <td>4</td>\n",
       "      <td>1</td>\n",
       "      <td>4</td>\n",
       "      <td>13</td>\n",
       "      <td>4</td>\n",
       "      <td>12</td>\n",
       "      <td>4</td>\n",
       "      <td>11</td>\n",
       "      <td>4</td>\n",
       "      <td>10</td>\n",
       "      <td>9</td>\n",
       "    </tr>\n",
       "    <tr>\n",
       "      <th>4</th>\n",
       "      <td>1</td>\n",
       "      <td>2</td>\n",
       "      <td>1</td>\n",
       "      <td>4</td>\n",
       "      <td>1</td>\n",
       "      <td>5</td>\n",
       "      <td>1</td>\n",
       "      <td>3</td>\n",
       "      <td>1</td>\n",
       "      <td>6</td>\n",
       "      <td>8</td>\n",
       "    </tr>\n",
       "    <tr>\n",
       "      <th>...</th>\n",
       "      <td>...</td>\n",
       "      <td>...</td>\n",
       "      <td>...</td>\n",
       "      <td>...</td>\n",
       "      <td>...</td>\n",
       "      <td>...</td>\n",
       "      <td>...</td>\n",
       "      <td>...</td>\n",
       "      <td>...</td>\n",
       "      <td>...</td>\n",
       "      <td>...</td>\n",
       "    </tr>\n",
       "    <tr>\n",
       "      <th>25004</th>\n",
       "      <td>3</td>\n",
       "      <td>9</td>\n",
       "      <td>2</td>\n",
       "      <td>6</td>\n",
       "      <td>4</td>\n",
       "      <td>11</td>\n",
       "      <td>4</td>\n",
       "      <td>12</td>\n",
       "      <td>2</td>\n",
       "      <td>4</td>\n",
       "      <td>0</td>\n",
       "    </tr>\n",
       "    <tr>\n",
       "      <th>25005</th>\n",
       "      <td>4</td>\n",
       "      <td>1</td>\n",
       "      <td>4</td>\n",
       "      <td>10</td>\n",
       "      <td>3</td>\n",
       "      <td>13</td>\n",
       "      <td>3</td>\n",
       "      <td>4</td>\n",
       "      <td>1</td>\n",
       "      <td>10</td>\n",
       "      <td>1</td>\n",
       "    </tr>\n",
       "    <tr>\n",
       "      <th>25006</th>\n",
       "      <td>2</td>\n",
       "      <td>1</td>\n",
       "      <td>2</td>\n",
       "      <td>10</td>\n",
       "      <td>4</td>\n",
       "      <td>4</td>\n",
       "      <td>4</td>\n",
       "      <td>1</td>\n",
       "      <td>4</td>\n",
       "      <td>13</td>\n",
       "      <td>1</td>\n",
       "    </tr>\n",
       "    <tr>\n",
       "      <th>25007</th>\n",
       "      <td>2</td>\n",
       "      <td>12</td>\n",
       "      <td>4</td>\n",
       "      <td>3</td>\n",
       "      <td>1</td>\n",
       "      <td>10</td>\n",
       "      <td>1</td>\n",
       "      <td>12</td>\n",
       "      <td>4</td>\n",
       "      <td>9</td>\n",
       "      <td>1</td>\n",
       "    </tr>\n",
       "    <tr>\n",
       "      <th>25008</th>\n",
       "      <td>1</td>\n",
       "      <td>7</td>\n",
       "      <td>3</td>\n",
       "      <td>11</td>\n",
       "      <td>3</td>\n",
       "      <td>3</td>\n",
       "      <td>4</td>\n",
       "      <td>8</td>\n",
       "      <td>3</td>\n",
       "      <td>7</td>\n",
       "      <td>1</td>\n",
       "    </tr>\n",
       "  </tbody>\n",
       "</table>\n",
       "<p>25009 rows × 11 columns</p>\n",
       "</div>"
      ],
      "text/plain": [
       "       S1  C1  S2  C2  S3  C3  S4  C4  S5  C5  Hand Rank\n",
       "0       2  11   2  13   2  10   2  12   2   1          9\n",
       "1       3  12   3  11   3  13   3  10   3   1          9\n",
       "2       4  10   4  11   4   1   4  13   4  12          9\n",
       "3       4   1   4  13   4  12   4  11   4  10          9\n",
       "4       1   2   1   4   1   5   1   3   1   6          8\n",
       "...    ..  ..  ..  ..  ..  ..  ..  ..  ..  ..        ...\n",
       "25004   3   9   2   6   4  11   4  12   2   4          0\n",
       "25005   4   1   4  10   3  13   3   4   1  10          1\n",
       "25006   2   1   2  10   4   4   4   1   4  13          1\n",
       "25007   2  12   4   3   1  10   1  12   4   9          1\n",
       "25008   1   7   3  11   3   3   4   8   3   7          1\n",
       "\n",
       "[25009 rows x 11 columns]"
      ]
     },
     "execution_count": 4,
     "metadata": {},
     "output_type": "execute_result"
    }
   ],
   "source": [
    "X_train"
   ]
  },
  {
   "cell_type": "code",
   "execution_count": 5,
   "id": "59b6998a",
   "metadata": {},
   "outputs": [],
   "source": [
    "rank_counts_train = y_test.groupby(y_train).size()"
   ]
  },
  {
   "cell_type": "code",
   "execution_count": 6,
   "id": "69a9480f",
   "metadata": {},
   "outputs": [],
   "source": [
    "rank_counts_test = y_test.groupby(y_test).size()"
   ]
  },
  {
   "cell_type": "code",
   "execution_count": 7,
   "id": "32480e68",
   "metadata": {},
   "outputs": [
    {
     "data": {
      "text/plain": [
       "Hand Rank\n",
       "0    501208\n",
       "1    422498\n",
       "2     47622\n",
       "3     21121\n",
       "4      3885\n",
       "5      1996\n",
       "6      1424\n",
       "7       230\n",
       "8        12\n",
       "9         3\n",
       "Name: Hand Rank, dtype: int64"
      ]
     },
     "execution_count": 7,
     "metadata": {},
     "output_type": "execute_result"
    }
   ],
   "source": [
    "rank_counts_test"
   ]
  },
  {
   "cell_type": "code",
   "execution_count": 8,
   "id": "01efa373",
   "metadata": {
    "scrolled": true
   },
   "outputs": [
    {
     "data": {
      "text/plain": [
       "Hand Rank\n",
       "0.0    12493\n",
       "1.0    10599\n",
       "2.0     1206\n",
       "3.0      513\n",
       "4.0       93\n",
       "5.0       54\n",
       "6.0       36\n",
       "7.0        6\n",
       "8.0        5\n",
       "9.0        4\n",
       "Name: Hand Rank, dtype: int64"
      ]
     },
     "execution_count": 8,
     "metadata": {},
     "output_type": "execute_result"
    }
   ],
   "source": [
    "rank_counts_train"
   ]
  },
  {
   "cell_type": "code",
   "execution_count": 9,
   "id": "ab08c7d7",
   "metadata": {},
   "outputs": [],
   "source": [
    "def percentage_shower(column_names, counts):\n",
    "    _dict = dict()\n",
    "    for index,col in enumerate(column_names):\n",
    "        _dict[col] = (counts[index] / counts.sum()) * 100\n",
    "    return _dict"
   ]
  },
  {
   "cell_type": "code",
   "execution_count": 10,
   "id": "c2cac915",
   "metadata": {},
   "outputs": [],
   "source": [
    "col_names = [\"Nothing in hand\", \"One Pair\", \"Two Pair\", \"Three of a kind\", \"Straight\"\n",
    "            \"Flush\", \"Full House\", \"Four of a kind\", \"Straight Flush\", \"Royal Flush\"]"
   ]
  },
  {
   "cell_type": "code",
   "execution_count": 11,
   "id": "79e2d7bd",
   "metadata": {},
   "outputs": [],
   "source": [
    "percentage_dict_test = percentage_shower(col_names, rank_counts_test)\n",
    "percentage_dict_train = percentage_shower(col_names, rank_counts_train)"
   ]
  },
  {
   "cell_type": "code",
   "execution_count": 12,
   "id": "8296f7d8",
   "metadata": {},
   "outputs": [
    {
     "data": {
      "text/html": [
       "<div>\n",
       "<style scoped>\n",
       "    .dataframe tbody tr th:only-of-type {\n",
       "        vertical-align: middle;\n",
       "    }\n",
       "\n",
       "    .dataframe tbody tr th {\n",
       "        vertical-align: top;\n",
       "    }\n",
       "\n",
       "    .dataframe thead th {\n",
       "        text-align: right;\n",
       "    }\n",
       "</style>\n",
       "<table border=\"1\" class=\"dataframe\">\n",
       "  <thead>\n",
       "    <tr style=\"text-align: right;\">\n",
       "      <th></th>\n",
       "      <th>Percentage</th>\n",
       "    </tr>\n",
       "  </thead>\n",
       "  <tbody>\n",
       "    <tr>\n",
       "      <th>Nothing in hand</th>\n",
       "      <td>50.120850</td>\n",
       "    </tr>\n",
       "    <tr>\n",
       "      <th>One Pair</th>\n",
       "      <td>42.249842</td>\n",
       "    </tr>\n",
       "    <tr>\n",
       "      <th>Two Pair</th>\n",
       "      <td>4.762205</td>\n",
       "    </tr>\n",
       "    <tr>\n",
       "      <th>Three of a kind</th>\n",
       "      <td>2.112102</td>\n",
       "    </tr>\n",
       "    <tr>\n",
       "      <th>StraightFlush</th>\n",
       "      <td>0.388500</td>\n",
       "    </tr>\n",
       "    <tr>\n",
       "      <th>Full House</th>\n",
       "      <td>0.199600</td>\n",
       "    </tr>\n",
       "    <tr>\n",
       "      <th>Four of a kind</th>\n",
       "      <td>0.142400</td>\n",
       "    </tr>\n",
       "    <tr>\n",
       "      <th>Straight Flush</th>\n",
       "      <td>0.023000</td>\n",
       "    </tr>\n",
       "    <tr>\n",
       "      <th>Royal Flush</th>\n",
       "      <td>0.001200</td>\n",
       "    </tr>\n",
       "  </tbody>\n",
       "</table>\n",
       "</div>"
      ],
      "text/plain": [
       "                 Percentage\n",
       "Nothing in hand   50.120850\n",
       "One Pair          42.249842\n",
       "Two Pair           4.762205\n",
       "Three of a kind    2.112102\n",
       "StraightFlush      0.388500\n",
       "Full House         0.199600\n",
       "Four of a kind     0.142400\n",
       "Straight Flush     0.023000\n",
       "Royal Flush        0.001200"
      ]
     },
     "execution_count": 12,
     "metadata": {},
     "output_type": "execute_result"
    }
   ],
   "source": [
    "pd_percentage_test = pd.DataFrame.from_dict(percentage_dict_test, orient='index', columns=[\"Percentage\"])\n",
    "pd_percentage_test"
   ]
  },
  {
   "cell_type": "code",
   "execution_count": 13,
   "id": "ef1d329a",
   "metadata": {},
   "outputs": [
    {
     "data": {
      "text/html": [
       "<div>\n",
       "<style scoped>\n",
       "    .dataframe tbody tr th:only-of-type {\n",
       "        vertical-align: middle;\n",
       "    }\n",
       "\n",
       "    .dataframe tbody tr th {\n",
       "        vertical-align: top;\n",
       "    }\n",
       "\n",
       "    .dataframe thead th {\n",
       "        text-align: right;\n",
       "    }\n",
       "</style>\n",
       "<table border=\"1\" class=\"dataframe\">\n",
       "  <thead>\n",
       "    <tr style=\"text-align: right;\">\n",
       "      <th></th>\n",
       "      <th>Percentage</th>\n",
       "    </tr>\n",
       "  </thead>\n",
       "  <tbody>\n",
       "    <tr>\n",
       "      <th>Nothing in hand</th>\n",
       "      <td>49.954017</td>\n",
       "    </tr>\n",
       "    <tr>\n",
       "      <th>One Pair</th>\n",
       "      <td>42.380743</td>\n",
       "    </tr>\n",
       "    <tr>\n",
       "      <th>Two Pair</th>\n",
       "      <td>4.822264</td>\n",
       "    </tr>\n",
       "    <tr>\n",
       "      <th>Three of a kind</th>\n",
       "      <td>2.051262</td>\n",
       "    </tr>\n",
       "    <tr>\n",
       "      <th>StraightFlush</th>\n",
       "      <td>0.371866</td>\n",
       "    </tr>\n",
       "    <tr>\n",
       "      <th>Full House</th>\n",
       "      <td>0.215922</td>\n",
       "    </tr>\n",
       "    <tr>\n",
       "      <th>Four of a kind</th>\n",
       "      <td>0.143948</td>\n",
       "    </tr>\n",
       "    <tr>\n",
       "      <th>Straight Flush</th>\n",
       "      <td>0.023991</td>\n",
       "    </tr>\n",
       "    <tr>\n",
       "      <th>Royal Flush</th>\n",
       "      <td>0.019993</td>\n",
       "    </tr>\n",
       "  </tbody>\n",
       "</table>\n",
       "</div>"
      ],
      "text/plain": [
       "                 Percentage\n",
       "Nothing in hand   49.954017\n",
       "One Pair          42.380743\n",
       "Two Pair           4.822264\n",
       "Three of a kind    2.051262\n",
       "StraightFlush      0.371866\n",
       "Full House         0.215922\n",
       "Four of a kind     0.143948\n",
       "Straight Flush     0.023991\n",
       "Royal Flush        0.019993"
      ]
     },
     "execution_count": 13,
     "metadata": {},
     "output_type": "execute_result"
    }
   ],
   "source": [
    "pd_percentage_train = pd.DataFrame.from_dict(percentage_dict_train, orient='index', columns=[\"Percentage\"])\n",
    "pd_percentage_train"
   ]
  },
  {
   "cell_type": "code",
   "execution_count": 14,
   "id": "3050f379",
   "metadata": {},
   "outputs": [
    {
     "data": {
      "text/plain": [
       "15526"
      ]
     },
     "execution_count": 14,
     "metadata": {},
     "output_type": "execute_result"
    }
   ],
   "source": [
    "X_train[\"Hand Rank\"].sum()"
   ]
  },
  {
   "cell_type": "code",
   "execution_count": 15,
   "id": "502732ff",
   "metadata": {},
   "outputs": [
    {
     "data": {
      "text/plain": [
       "pandas.core.series.Series"
      ]
     },
     "execution_count": 15,
     "metadata": {},
     "output_type": "execute_result"
    }
   ],
   "source": [
    "type(X_train[\"Hand Rank\"])"
   ]
  },
  {
   "cell_type": "code",
   "execution_count": 47,
   "id": "cd193c36",
   "metadata": {},
   "outputs": [
    {
     "data": {
      "image/png": "[encoded data removed]",
      "text/plain": [
       "<Figure size 720x360 with 1 Axes>"
      ]
     },
     "metadata": {
      "needs_background": "light"
     },
     "output_type": "display_data"
    }
   ],
   "source": [
    "hands = y.sum()\n",
    "s = pd.DataFrame()\n",
    "s[\"prob_hand\"] = y.apply(lambda x: (x))\n",
    "fig = plt.figure(figsize=(10,5))\n",
    "ax = fig.add_axes([0.1,0.1,.8,.8])\n",
    "ax.set_title('Hand Ranking Train Set')\n",
    "ax.set_xlabel('Rank 0-9')\n",
    "ax.set_ylabel('Occurences')\n",
    "ax.set_xticks([0,1,2,3,4,5,6,7,8,9])\n",
    "for val in range(len(s)):\n",
    "    ax.annotate(str(s.iloc[val,0]), xy = (val, s.iloc[val,0]), xytext = (val-.4, s.iloc[val,0]))\n",
    "    ax.bar(val,s.iloc[val,0])\n",
    "plt.show()"
   ]
  },
  {
   "cell_type": "code",
   "execution_count": 48,
   "id": "ebcb0e61",
   "metadata": {},
   "outputs": [
    {
     "data": {
      "image/png": "[encoded data removed]",
      "text/plain": [
       "<Figure size 720x360 with 1 Axes>"
      ]
     },
     "metadata": {
      "needs_background": "light"
     },
     "output_type": "display_data"
    }
   ],
   "source": [
    "y = y_train.groupby(y_train).size()\n",
    "fig = plt.figure(figsize=(10,5))\n",
    "ax = fig.add_axes([0.1,0.1,.8,.8])\n",
    "ax.set_title('Hand Ranking Test Set')\n",
    "ax.set_xlabel('Rank 0-9')\n",
    "ax.set_ylabel('Occurences')\n",
    "ax.set_yscale('log')\n",
    "ax.set_xticks([0,1,2,3,4,5,6,7,8,9])\n",
    "for val in range(len(y)):\n",
    "    ax.annotate(str(y[val]), xy = (val, y[val]), xytext = (val-.4, y[val]))\n",
    "    ax.bar(val,y[val])\n",
    "plt.show()"
   ]
  }
 ],
 "metadata": {
  "kernelspec": {
   "display_name": "Python 3 (ipykernel)",
   "language": "python",
   "name": "python3"
  },
  "language_info": {
   "codemirror_mode": {
    "name": "ipython",
    "version": 3
   },
   "file_extension": ".py",
   "mimetype": "text/x-python",
   "name": "python",
   "nbconvert_exporter": "python",
   "pygments_lexer": "ipython3",
   "version": "3.9.12"
  }
 },
 "nbformat": 4,
 "nbformat_minor": 5
}
