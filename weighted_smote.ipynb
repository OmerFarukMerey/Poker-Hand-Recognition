{
 "cells": [
  {
   "cell_type": "code",
   "execution_count": 1,
   "id": "ecc36f74",
   "metadata": {},
   "outputs": [],
   "source": [
    "import pandas as pd\n",
    "import numpy as np"
   ]
  },
  {
   "cell_type": "code",
   "execution_count": 2,
   "id": "335713bc",
   "metadata": {},
   "outputs": [],
   "source": [
    "import pickle\n",
    "\n",
    "test = pd.read_csv(\"poker-hand-testing.data\")\n",
    "train = pd.read_csv(\"poker-hand-training-true.data\")\n",
    "\n",
    "train.columns = ['S1', 'C1','S2', 'C2','S3', 'C3','S4', 'C4','S5', 'C5', 'Hand Rank']\n",
    "test.columns = ['S1', 'C1','S2', 'C2','S3', 'C3','S4', 'C4','S5', 'C5', 'Hand Rank']\n",
    "\n",
    "X_train = train.drop(\"Hand Rank\", axis=1)\n",
    "X_test = test.drop(\"Hand Rank\", axis=1)\n",
    "\n",
    "y_train = train[\"Hand Rank\"]\n",
    "y_test = test[\"Hand Rank\"]\n",
    "\n",
    "X_train_pre = pickle.load(open(\"X_train_pre.pickle\", \"rb\"))\n",
    "X_test_pre = pickle.load(open(\"X_test_pre.pickle\", \"rb\"))"
   ]
  },
  {
   "cell_type": "code",
   "execution_count": 3,
   "id": "53181133",
   "metadata": {},
   "outputs": [
    {
     "data": {
      "text/html": [
       "<img src=\"Formula Smote.jpg\" width=\"300\" height=\"300\"/>"
      ],
      "text/plain": [
       "<IPython.core.display.Image object>"
      ]
     },
     "execution_count": 3,
     "metadata": {},
     "output_type": "execute_result"
    }
   ],
   "source": [
    "from IPython.display import Image\n",
    "  \n",
    "Image(url=\"Formula Smote.jpg\", width=300, height=300)"
   ]
  },
  {
   "cell_type": "code",
   "execution_count": 16,
   "id": "2b34eca6",
   "metadata": {},
   "outputs": [],
   "source": [
    "import math\n",
    "\n",
    "def samples_func(num_of_c, num_of_all, alfa_val):\n",
    "    return math.floor((num_of_all / num_of_c) * alfa_val)\n",
    "\n",
    "def sample_amount(data):\n",
    "    freq_dict = dict()\n",
    "    \n",
    "    num_of_samples = 0\n",
    "    \n",
    "    for i in range(10):\n",
    "        freq_dict[str(i)] = len(data[data[\"Hand Rank\"] == i])\n",
    "        num_of_samples += freq_dict[str(i)]\n",
    "    \n",
    "    sample_amounts = dict()\n",
    "    \n",
    "    for key in freq_dict:\n",
    "        sample_amounts[key] = samples_func(freq_dict[key], num_of_samples, 0.5)\n",
    "    \n",
    "    return sample_amounts"
   ]
  },
  {
   "cell_type": "code",
   "execution_count": 17,
   "id": "71011878",
   "metadata": {},
   "outputs": [
    {
     "data": {
      "text/plain": [
       "{'0': 12494,\n",
       " '1': 10600,\n",
       " '2': 1216,\n",
       " '3': 537,\n",
       " '4': 227,\n",
       " '5': 285,\n",
       " '6': 383,\n",
       " '7': 2090,\n",
       " '8': 2505,\n",
       " '9': 3130}"
      ]
     },
     "execution_count": 17,
     "metadata": {},
     "output_type": "execute_result"
    }
   ],
   "source": [
    "sampling_strategy = dict()\n",
    "\n",
    "i = 0\n",
    "for key, val in sample_amount(train).items():\n",
    "    sampling_strategy[key] = len(train[train[\"Hand Rank\"] == i]) + val\n",
    "    i +=1\n",
    "\n",
    "sampling_strategy"
   ]
  },
  {
   "cell_type": "code",
   "execution_count": 18,
   "id": "0e0c1d0f",
   "metadata": {},
   "outputs": [
    {
     "data": {
      "text/plain": [
       "0    12493\n",
       "1    10599\n",
       "2     1206\n",
       "3      513\n",
       "4       93\n",
       "5       54\n",
       "6       36\n",
       "7        6\n",
       "8        5\n",
       "9        4\n",
       "Name: Hand Rank, dtype: int64"
      ]
     },
     "execution_count": 18,
     "metadata": {},
     "output_type": "execute_result"
    }
   ],
   "source": [
    "train['Hand Rank'].value_counts()"
   ]
  },
  {
   "cell_type": "code",
   "execution_count": 7,
   "id": "3b0bb77a",
   "metadata": {},
   "outputs": [
    {
     "name": "stdout",
     "output_type": "stream",
     "text": [
      "Requirement already satisfied: imblearn in c:\\users\\flcs\\anaconda3\\lib\\site-packages (0.0)\n",
      "Requirement already satisfied: imbalanced-learn in c:\\users\\flcs\\anaconda3\\lib\\site-packages (from imblearn) (0.10.0)\n",
      "Requirement already satisfied: scikit-learn>=1.0.2 in c:\\users\\flcs\\anaconda3\\lib\\site-packages (from imbalanced-learn->imblearn) (1.0.2)\n",
      "Requirement already satisfied: threadpoolctl>=2.0.0 in c:\\users\\flcs\\anaconda3\\lib\\site-packages (from imbalanced-learn->imblearn) (2.2.0)\n",
      "Requirement already satisfied: joblib>=1.1.1 in c:\\users\\flcs\\anaconda3\\lib\\site-packages (from imbalanced-learn->imblearn) (1.2.0)\n",
      "Requirement already satisfied: numpy>=1.17.3 in c:\\users\\flcs\\anaconda3\\lib\\site-packages (from imbalanced-learn->imblearn) (1.21.5)\n",
      "Requirement already satisfied: scipy>=1.3.2 in c:\\users\\flcs\\anaconda3\\lib\\site-packages (from imbalanced-learn->imblearn) (1.7.3)\n"
     ]
    }
   ],
   "source": [
    "!pip install imblearn"
   ]
  },
  {
   "cell_type": "markdown",
   "id": "c8d99923",
   "metadata": {},
   "source": [
    "from imblearn.over_sampling import SMOTE\n",
    "\n",
    "sm = SMOTE(random_state=42, sampling_strategy={2:1210, 3:522, 4:146, 5:92, 6:138, 7:833, 8:1000, 9:1250})\n",
    "\n",
    "X_train_smote, y_train_smote = sm.fit_resample(X_train, y_train)\n",
    "\n",
    "X_train_smote, y_train_smote"
   ]
  }
 ],
 "metadata": {
  "kernelspec": {
   "display_name": "Python 3 (ipykernel)",
   "language": "python",
   "name": "python3"
  },
  "language_info": {
   "codemirror_mode": {
    "name": "ipython",
    "version": 3
   },
   "file_extension": ".py",
   "mimetype": "text/x-python",
   "name": "python",
   "nbconvert_exporter": "python",
   "pygments_lexer": "ipython3",
   "version": "3.9.12"
  }
 },
 "nbformat": 4,
 "nbformat_minor": 5
}
