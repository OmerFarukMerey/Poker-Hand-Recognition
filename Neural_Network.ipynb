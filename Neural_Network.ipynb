{
 "cells": [
  {
   "cell_type": "code",
   "execution_count": 9,
   "id": "6a733b22",
   "metadata": {},
   "outputs": [],
   "source": [
    "def add_counts(df):\n",
    "    tmp_card = df[[\"C1\", \"C2\", \"C3\", \"C4\", \"C5\"]]\n",
    "    tmp_suit = df[[\"S1\", \"S2\", \"S3\", \"S4\", \"S5\"]]\n",
    "    #Pairs, sets, and quads. (equal ranks)\n",
    "    df[\"cnt_c1\"] = tmp_card.apply(lambda c: sum(c==c[0]), axis=1)\n",
    "    df[\"cnt_c2\"] = tmp_card.apply(lambda c: sum(c==c[1]), axis=1)\n",
    "    df[\"cnt_c3\"] = tmp_card.apply(lambda c: sum(c==c[2]), axis=1)\n",
    "    df[\"cnt_c4\"] = tmp_card.apply(lambda c: sum(c==c[3]), axis=1)\n",
    "    df[\"cnt_c5\"] = tmp_card.apply(lambda c: sum(c==c[4]), axis=1)\n",
    "    # Flushes (five cards with the same suit)\n",
    "    df[\"cnt_s1\"] = tmp_suit.apply(lambda s: sum(s==s[0]), axis=1)\n",
    "    df[\"cnt_s2\"] = tmp_suit.apply(lambda s: sum(s==s[1]), axis=1)\n",
    "    df[\"cnt_s3\"] = tmp_suit.apply(lambda s: sum(s==s[2]), axis=1)\n",
    "    df[\"cnt_s4\"] = tmp_suit.apply(lambda s: sum(s==s[3]), axis=1)\n",
    "    df[\"cnt_s5\"] = tmp_suit.apply(lambda s: sum(s==s[4]), axis=1)\n",
    "    return df\n",
    "\n",
    "def add_unique_count(df):\n",
    "    tmp_suit = df[[\"S1\", \"S2\", \"S3\", \"S4\", \"S5\"]]\n",
    "    df[\"unique_suit\"] = tmp_suit.apply(lambda s: len(np.unique(s)), axis=1)\n",
    "    return df\n",
    "\n",
    "def add_diffs(df):\n",
    "    tmp = df\n",
    "    #if a straight is possible\n",
    "    df[\"diff_1\"] = tmp[\"C2\"] - tmp[\"C1\"]\n",
    "    df[\"diff_2\"] = tmp[\"C3\"] - tmp[\"C2\"]\n",
    "    df[\"diff_3\"] = tmp[\"C4\"] - tmp[\"C3\"]\n",
    "    df[\"diff_4\"] = tmp[\"C5\"] - tmp[\"C4\"]\n",
    "    #Counts how many similar differences there are\n",
    "    tmp_diff = df[[\"diff_1\",\"diff_2\",\"diff_3\",\"diff_4\"]]\n",
    "    df[\"cnt_diff1\"] = tmp_diff.apply(lambda c: sum(c==c[0]), axis=1)\n",
    "    df[\"cnt_diff2\"] = tmp_diff.apply(lambda c: sum(c==c[1]), axis=1)\n",
    "    df[\"cnt_diff3\"] = tmp_diff.apply(lambda c: sum(c==c[2]), axis=1)\n",
    "    df[\"cnt_diff4\"] = tmp_diff.apply(lambda c: sum(c==c[3]), axis=1)\n",
    "    return df\n",
    "\n",
    "def preprocess_data(data):\n",
    "    df = data.copy()\n",
    "    cards = df[[\"C1\", \"C2\", \"C3\", \"C4\", \"C5\"]]\n",
    "    suits = df[[\"S1\", \"S2\", \"S3\", \"S4\", \"S5\"]]\n",
    "    cards.values.sort()\n",
    "    suits.values.sort()\n",
    "    df[[\"C1\", \"C2\", \"C3\", \"C4\", \"C5\"]] = cards\n",
    "    df[[\"S1\", \"S2\", \"S3\", \"S4\", \"S5\"]] = suits\n",
    "    df = df[[\"S1\", \"C1\",\"S2\", \"C2\",\"S3\", \"C3\",\"S4\", \"C4\",\"S5\", \"C5\"]]\n",
    "    df = add_counts(df)\n",
    "    df = add_diffs(df)\n",
    "    df = add_unique_count(df)\n",
    "    return df"
   ]
  },
  {
   "cell_type": "code",
   "execution_count": 1,
   "id": "1ac0ff91",
   "metadata": {},
   "outputs": [],
   "source": [
    "#LOAD DATA\n",
    "\n",
    "import pickle\n",
    "\n",
    "x_train = pickle.load(open('X_train_pre.pickle', 'rb'))\n",
    "x_test = pickle.load(open('X_test_pre.pickle', 'rb'))\n",
    "y_train = pickle.load(open('y_train.pickle', 'rb'))\n",
    "y_test = pickle.load(open('y_test.pickle', 'rb'))"
   ]
  },
  {
   "cell_type": "code",
   "execution_count": 3,
   "id": "10f1d95c",
   "metadata": {},
   "outputs": [
    {
     "data": {
      "text/html": [
       "<style>#sk-container-id-2 {color: black;background-color: white;}#sk-container-id-2 pre{padding: 0;}#sk-container-id-2 div.sk-toggleable {background-color: white;}#sk-container-id-2 label.sk-toggleable__label {cursor: pointer;display: block;width: 100%;margin-bottom: 0;padding: 0.3em;box-sizing: border-box;text-align: center;}#sk-container-id-2 label.sk-toggleable__label-arrow:before {content: \"▸\";float: left;margin-right: 0.25em;color: #696969;}#sk-container-id-2 label.sk-toggleable__label-arrow:hover:before {color: black;}#sk-container-id-2 div.sk-estimator:hover label.sk-toggleable__label-arrow:before {color: black;}#sk-container-id-2 div.sk-toggleable__content {max-height: 0;max-width: 0;overflow: hidden;text-align: left;background-color: #f0f8ff;}#sk-container-id-2 div.sk-toggleable__content pre {margin: 0.2em;color: black;border-radius: 0.25em;background-color: #f0f8ff;}#sk-container-id-2 input.sk-toggleable__control:checked~div.sk-toggleable__content {max-height: 200px;max-width: 100%;overflow: auto;}#sk-container-id-2 input.sk-toggleable__control:checked~label.sk-toggleable__label-arrow:before {content: \"▾\";}#sk-container-id-2 div.sk-estimator input.sk-toggleable__control:checked~label.sk-toggleable__label {background-color: #d4ebff;}#sk-container-id-2 div.sk-label input.sk-toggleable__control:checked~label.sk-toggleable__label {background-color: #d4ebff;}#sk-container-id-2 input.sk-hidden--visually {border: 0;clip: rect(1px 1px 1px 1px);clip: rect(1px, 1px, 1px, 1px);height: 1px;margin: -1px;overflow: hidden;padding: 0;position: absolute;width: 1px;}#sk-container-id-2 div.sk-estimator {font-family: monospace;background-color: #f0f8ff;border: 1px dotted black;border-radius: 0.25em;box-sizing: border-box;margin-bottom: 0.5em;}#sk-container-id-2 div.sk-estimator:hover {background-color: #d4ebff;}#sk-container-id-2 div.sk-parallel-item::after {content: \"\";width: 100%;border-bottom: 1px solid gray;flex-grow: 1;}#sk-container-id-2 div.sk-label:hover label.sk-toggleable__label {background-color: #d4ebff;}#sk-container-id-2 div.sk-serial::before {content: \"\";position: absolute;border-left: 1px solid gray;box-sizing: border-box;top: 0;bottom: 0;left: 50%;z-index: 0;}#sk-container-id-2 div.sk-serial {display: flex;flex-direction: column;align-items: center;background-color: white;padding-right: 0.2em;padding-left: 0.2em;position: relative;}#sk-container-id-2 div.sk-item {position: relative;z-index: 1;}#sk-container-id-2 div.sk-parallel {display: flex;align-items: stretch;justify-content: center;background-color: white;position: relative;}#sk-container-id-2 div.sk-item::before, #sk-container-id-2 div.sk-parallel-item::before {content: \"\";position: absolute;border-left: 1px solid gray;box-sizing: border-box;top: 0;bottom: 0;left: 50%;z-index: -1;}#sk-container-id-2 div.sk-parallel-item {display: flex;flex-direction: column;z-index: 1;position: relative;background-color: white;}#sk-container-id-2 div.sk-parallel-item:first-child::after {align-self: flex-end;width: 50%;}#sk-container-id-2 div.sk-parallel-item:last-child::after {align-self: flex-start;width: 50%;}#sk-container-id-2 div.sk-parallel-item:only-child::after {width: 0;}#sk-container-id-2 div.sk-dashed-wrapped {border: 1px dashed gray;margin: 0 0.4em 0.5em 0.4em;box-sizing: border-box;padding-bottom: 0.4em;background-color: white;}#sk-container-id-2 div.sk-label label {font-family: monospace;font-weight: bold;display: inline-block;line-height: 1.2em;}#sk-container-id-2 div.sk-label-container {text-align: center;}#sk-container-id-2 div.sk-container {/* jupyter's `normalize.less` sets `[hidden] { display: none; }` but bootstrap.min.css set `[hidden] { display: none !important; }` so we also need the `!important` here to be able to override the default hidden behavior on the sphinx rendered scikit-learn.org. See: https://github.com/scikit-learn/scikit-learn/issues/21755 */display: inline-block !important;position: relative;}#sk-container-id-2 div.sk-text-repr-fallback {display: none;}</style><div id=\"sk-container-id-2\" class=\"sk-top-container\"><div class=\"sk-text-repr-fallback\"><pre>MLPClassifier(alpha=1e-05, hidden_layer_sizes=(5, 2), max_iter=999999,\n",
       "              random_state=42, solver=&#x27;lbfgs&#x27;)</pre><b>In a Jupyter environment, please rerun this cell to show the HTML representation or trust the notebook. <br />On GitHub, the HTML representation is unable to render, please try loading this page with nbviewer.org.</b></div><div class=\"sk-container\" hidden><div class=\"sk-item\"><div class=\"sk-estimator sk-toggleable\"><input class=\"sk-toggleable__control sk-hidden--visually\" id=\"sk-estimator-id-2\" type=\"checkbox\" checked><label for=\"sk-estimator-id-2\" class=\"sk-toggleable__label sk-toggleable__label-arrow\">MLPClassifier</label><div class=\"sk-toggleable__content\"><pre>MLPClassifier(alpha=1e-05, hidden_layer_sizes=(5, 2), max_iter=999999,\n",
       "              random_state=42, solver=&#x27;lbfgs&#x27;)</pre></div></div></div></div></div>"
      ],
      "text/plain": [
       "MLPClassifier(alpha=1e-05, hidden_layer_sizes=(5, 2), max_iter=999999,\n",
       "              random_state=42, solver='lbfgs')"
      ]
     },
     "execution_count": 3,
     "metadata": {},
     "output_type": "execute_result"
    }
   ],
   "source": [
    "from sklearn.neural_network import MLPClassifier\n",
    "\n",
    "model = MLPClassifier(solver = 'lbfgs', alpha = 1e-5, hidden_layer_sizes = (5,2), random_state = 42, max_iter = 999999)\n",
    "model.fit(x_train, y_train)"
   ]
  },
  {
   "cell_type": "code",
   "execution_count": 4,
   "id": "c4f04aa9",
   "metadata": {},
   "outputs": [],
   "source": [
    "prediction = model.predict(x_test)"
   ]
  },
  {
   "cell_type": "code",
   "execution_count": 6,
   "id": "70b31db9",
   "metadata": {},
   "outputs": [],
   "source": [
    "true = 0\n",
    "for i in range(len(prediction)):\n",
    "    if(prediction[i] == y_test[i]):\n",
    "        true+=1"
   ]
  },
  {
   "cell_type": "code",
   "execution_count": 7,
   "id": "52dea0fa",
   "metadata": {},
   "outputs": [
    {
     "data": {
      "text/plain": [
       "0.9982019982019982"
      ]
     },
     "execution_count": 7,
     "metadata": {},
     "output_type": "execute_result"
    }
   ],
   "source": [
    "true/len(prediction)"
   ]
  },
  {
   "cell_type": "code",
   "execution_count": 8,
   "id": "3a8d572e",
   "metadata": {},
   "outputs": [],
   "source": [
    "pickle.dump(model, open('nn.pkl', 'wb'))"
   ]
  },
  {
   "cell_type": "code",
   "execution_count": null,
   "id": "d21df87d",
   "metadata": {},
   "outputs": [],
   "source": []
  }
 ],
 "metadata": {
  "kernelspec": {
   "display_name": "Python 3 (ipykernel)",
   "language": "python",
   "name": "python3"
  },
  "language_info": {
   "codemirror_mode": {
    "name": "ipython",
    "version": 3
   },
   "file_extension": ".py",
   "mimetype": "text/x-python",
   "name": "python",
   "nbconvert_exporter": "python",
   "pygments_lexer": "ipython3",
   "version": "3.10.9"
  }
 },
 "nbformat": 4,
 "nbformat_minor": 5
}
